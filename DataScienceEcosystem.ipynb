{
 "cells": [
  {
   "cell_type": "markdown",
   "id": "26bad3a3-5581-4eae-b5fe-bec2a7a628d2",
   "metadata": {},
   "source": [
    "# Data Science Tools and Ecosystem"
   ]
  },
  {
   "cell_type": "markdown",
   "id": "2dbb144d-ae5a-45b5-94fa-070531961991",
   "metadata": {},
   "source": [
    "In this notebook, Data Science Tools and Ecosystem are summarized."
   ]
  },
  {
   "cell_type": "markdown",
   "id": "14da55f6-b9ec-46d5-9b8c-6c2ed2711c34",
   "metadata": {},
   "source": [
    "Objective: \n",
    "- List popular languages for Data Science\n",
    "- List commonly used libraries for Data Science\n",
    "- List of open sorce tools for Data Science"
   ]
  },
  {
   "cell_type": "markdown",
   "id": "5f9a0709-3e0c-4d4e-ae9e-563a48cb7c37",
   "metadata": {},
   "source": [
    "Some of the popular languages that Data Science use are:\n",
    "1. Python\n",
    "2. R\n",
    "3. SQL\n",
    "4. Julia\n"
   ]
  },
  {
   "cell_type": "markdown",
   "id": "084004d7-4f2b-4405-9be4-0a8cdcd177ef",
   "metadata": {},
   "source": [
    "Some of the commonly used libraries used by Data Scientists include:\n",
    "\n",
    "1. Numpy\n",
    "2. Pandas\n",
    "3. Tensorflow\n",
    "4. dplyr\n",
    "5. ggplot2"
   ]
  },
  {
   "cell_type": "markdown",
   "id": "68c52741-e222-49b7-bb3d-89e1e8022006",
   "metadata": {},
   "source": [
    "| Data Science Tools |\n",
    "| ------------------ |\n",
    "| Jupyter IDE |\n",
    "| RStudio |\n",
    "| Anacond Navigator |"
   ]
  },
  {
   "cell_type": "markdown",
   "id": "72d56443-6f7b-4d9d-bbdf-895b9ca8c38c",
   "metadata": {},
   "source": [
    "Below are a few examples of evaluating arithmetic expressions in Python"
   ]
  },
  {
   "cell_type": "code",
   "execution_count": 29,
   "id": "76c1ec65-2262-419b-a355-34960a3425c1",
   "metadata": {},
   "outputs": [
    {
     "data": {
      "text/plain": [
       "17"
      ]
     },
     "execution_count": 29,
     "metadata": {},
     "output_type": "execute_result"
    }
   ],
   "source": [
    "# this is a simple atithmetic expression to multiply then add ineters\n",
    "\n",
    "(3*4)+5"
   ]
  },
  {
   "cell_type": "code",
   "execution_count": 31,
   "id": "d53d56ed-28d3-4e1e-b47f-3325d779151e",
   "metadata": {},
   "outputs": [
    {
     "data": {
      "text/plain": [
       "3.3333333333333335"
      ]
     },
     "execution_count": 31,
     "metadata": {},
     "output_type": "execute_result"
    }
   ],
   "source": [
    "# this will convert 200 minutes to hours by dividing by 60\n",
    "\n",
    "200/60"
   ]
  },
  {
   "cell_type": "markdown",
   "id": "58d8ef02-5f37-47e4-ba2a-8f3906b12662",
   "metadata": {},
   "source": [
    "## Author\n",
    "Steven Nguyen"
   ]
  },
  {
   "cell_type": "code",
   "execution_count": null,
   "id": "cb89d0ec-d480-4479-91af-cfd35e14f088",
   "metadata": {},
   "outputs": [],
   "source": []
  }
 ],
 "metadata": {
  "kernelspec": {
   "display_name": "Python [conda env:base] *",
   "language": "python",
   "name": "conda-base-py"
  },
  "language_info": {
   "codemirror_mode": {
    "name": "ipython",
    "version": 3
   },
   "file_extension": ".py",
   "mimetype": "text/x-python",
   "name": "python",
   "nbconvert_exporter": "python",
   "pygments_lexer": "ipython3",
   "version": "3.12.7"
  }
 },
 "nbformat": 4,
 "nbformat_minor": 5
}
